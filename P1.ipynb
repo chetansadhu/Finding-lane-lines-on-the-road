{
 "cells": [
  {
   "cell_type": "markdown",
   "metadata": {},
   "source": [
    "# Self-Driving Car Engineer Nanodegree\n",
    "\n",
    "\n",
    "## Project: **Finding Lane Lines on the Road** \n"
   ]
  },
  {
   "cell_type": "markdown",
   "metadata": {},
   "source": [
    "## Import Packages"
   ]
  },
  {
   "cell_type": "code",
   "execution_count": null,
   "metadata": {},
   "outputs": [],
   "source": [
    "#importing some useful packages\n",
    "import matplotlib.pyplot as plt\n",
    "import matplotlib.image as mpimg\n",
    "import numpy as np\n",
    "import cv2\n",
    "import math\n",
    "%matplotlib inline"
   ]
  },
  {
   "cell_type": "markdown",
   "metadata": {},
   "source": [
    "## Helper Functions"
   ]
  },
  {
   "cell_type": "markdown",
   "metadata": {},
   "source": [
    "Below are some helper functions to help get you started. They should look familiar from the lesson!"
   ]
  },
  {
   "cell_type": "code",
   "execution_count": null,
   "metadata": {},
   "outputs": [],
   "source": [
    "def grayscale(img):\n",
    "    \"\"\"Applies the Grayscale transform\n",
    "    This will return an image with only one color channel\n",
    "    but NOTE: to see the returned image as grayscale\n",
    "    (assuming your grayscaled image is called 'gray')\n",
    "    you should call plt.imshow(gray, cmap='gray')\"\"\"\n",
    "    return cv2.cvtColor(img, cv2.COLOR_RGB2GRAY)\n",
    "    # Or use BGR2GRAY if you read an image with cv2.imread()\n",
    "    #return cv2.cvtColor(img, cv2.COLOR_BGR2GRAY)\n",
    "    \n",
    "def canny(img, low_threshold, high_threshold):\n",
    "    \"\"\"Applies the Canny transform\"\"\"\n",
    "    return cv2.Canny(img, low_threshold, high_threshold)\n",
    "\n",
    "def gaussian_blur(img, kernel_size):\n",
    "    \"\"\"Applies a Gaussian Noise kernel\"\"\"\n",
    "    return cv2.GaussianBlur(img, (kernel_size, kernel_size), 0)\n",
    "\n",
    "def region_of_interest(img, vertices):\n",
    "    \"\"\"\n",
    "    Applies an image mask.\n",
    "    \n",
    "    Only keeps the region of the image defined by the polygon\n",
    "    formed from `vertices`. The rest of the image is set to black.\n",
    "    \"\"\"\n",
    "    #defining a blank mask to start with\n",
    "    mask = np.zeros_like(img)   \n",
    "    \n",
    "    #defining a 3 channel or 1 channel color to fill the mask with depending on the input image\n",
    "    if len(img.shape) > 2:\n",
    "        channel_count = img.shape[2]  # i.e. 3 or 4 depending on your image\n",
    "        ignore_mask_color = (255,) * channel_count\n",
    "    else:\n",
    "        ignore_mask_color = 255\n",
    "        \n",
    "    #filling pixels inside the polygon defined by \"vertices\" with the fill color    \n",
    "    cv2.fillPoly(mask, [vertices], ignore_mask_color)\n",
    "    \n",
    "    #returning the image only where mask pixels are nonzero\n",
    "    masked_image = cv2.bitwise_and(img, mask)\n",
    "    return masked_image\n",
    "\n",
    "\n",
    "def draw_lines(img, lines, color=[255, 0, 0], thickness=2):\n",
    "    \"\"\"\n",
    "    NOTE: this is the function you might want to use as a starting point once you want to \n",
    "    average/extrapolate the line segments you detect to map out the full\n",
    "    extent of the lane (going from the result shown in raw-lines-example.mp4\n",
    "    to that shown in P1_example.mp4).  \n",
    "    \n",
    "    Think about things like separating line segments by their \n",
    "    slope ((y2-y1)/(x2-x1)) to decide which segments are part of the left\n",
    "    line vs. the right line.  Then, you can average the position of each of \n",
    "    the lines and extrapolate to the top and bottom of the lane.\n",
    "    \n",
    "    This function draws `lines` with `color` and `thickness`.    \n",
    "    Lines are drawn on the image inplace (mutates the image).\n",
    "    If you want to make the lines semi-transparent, think about combining\n",
    "    this function with the weighted_img() function below\n",
    "    \"\"\"\n",
    "    for line in lines:\n",
    "        for x1,y1,x2,y2 in line:\n",
    "            cv2.line(img, (x1, y1), (x2, y2), color, thickness)\n",
    "\n",
    "def hough_lines(img, rho, theta, threshold, min_line_len, max_line_gap):\n",
    "    \"\"\"\n",
    "    `img` should be the output of a Canny transform.\n",
    "        \n",
    "    Returns an image with hough lines drawn.\n",
    "    \"\"\"\n",
    "    lines = cv2.HoughLinesP(img, rho, theta, threshold, np.array([]), minLineLength=min_line_len, maxLineGap=max_line_gap)\n",
    "    line_img = np.zeros((img.shape[0], img.shape[1], 3), dtype=np.uint8)\n",
    "    draw_lines(line_img, lines)\n",
    "    return line_img, lines\n",
    "\n",
    "# Python 3 has support for cool math symbols.\n",
    "\n",
    "def weighted_img(img, initial_img, α=0.8, β=1., γ=0.):\n",
    "    \"\"\"\n",
    "    `img` is the output of the hough_lines(), An image with lines drawn on it.\n",
    "    Should be a blank image (all black) with lines drawn on it.\n",
    "    \n",
    "    `initial_img` should be the image before any processing.\n",
    "    \n",
    "    The result image is computed as follows:\n",
    "    \n",
    "    initial_img * α + img * β + γ\n",
    "    NOTE: initial_img and img must be the same shape!\n",
    "    \"\"\"\n",
    "    return cv2.addWeighted(initial_img, α, img, β, γ)"
   ]
  },
  {
   "cell_type": "markdown",
   "metadata": {},
   "source": [
    "## Test Images"
   ]
  },
  {
   "cell_type": "code",
   "execution_count": null,
   "metadata": {},
   "outputs": [],
   "source": [
    "import os\n",
    "files = os.listdir(\"test_images/\")\n",
    "filelist = []\n",
    "for file in files:\n",
    "    filelist.append(os.path.join(\"test_images/\", file))"
   ]
  },
  {
   "cell_type": "markdown",
   "metadata": {},
   "source": [
    "## Lane Finding Pipeline\n"
   ]
  },
  {
   "cell_type": "code",
   "execution_count": null,
   "metadata": {
    "scrolled": false
   },
   "outputs": [],
   "source": [
    "# Function to identify left and right lanes\n",
    "def identify_left_right_lanes(lines):\n",
    "    right_line = []\n",
    "    left_line = []\n",
    "\n",
    "    for line in lines:\n",
    "        for x1, y1, x2, y2 in line:\n",
    "            slope = (y2-y1)/(x2-x1)\n",
    "            if slope > math.sin(np.pi/6) and slope < math.sin(np.pi/3):\n",
    "                right_line.append([slope, x1, y1, x2, y2])\n",
    "            elif slope < math.cos(2*np.pi/3) and slope > math.cos(5*np.pi/6):\n",
    "                left_line.append([slope, x1, y1, x2, y2])\n",
    "    return left_line, right_line\n",
    "\n",
    "# Function to get new x coordinates given y coordinates and line list\n",
    "def get_xcoordinate(y1_coordinate, y2_coordinate, line):\n",
    "    x1_coordinate = 0\n",
    "    x2_coordinate = 0\n",
    "    x1_list = []\n",
    "    x2_list = []\n",
    "    if (len(line) > 0):\n",
    "        for pt in line:\n",
    "            x1_list.append(((y1_coordinate - pt[2])/pt[0]) + pt[1])\n",
    "            x2_list.append(((y2_coordinate - pt[2])/pt[0]) + pt[1])\n",
    "        x1_coordinate = int(sum(x1_list)/len(x1_list))\n",
    "        x2_coordinate = int(sum(x2_list)/len(x2_list))\n",
    "    return x1_coordinate, x2_coordinate\n",
    "\n",
    "\n",
    "history_info = 0\n",
    "\n",
    "def lane_detection(image, display_images = 0, write_images = 0):\n",
    "    global history_info\n",
    "    \n",
    "    # grayscale conversion\n",
    "    gray = grayscale(image)\n",
    "    height, width = image.shape[0], image.shape[1]\n",
    "    if display_images > 0:\n",
    "        plt.imshow(gray, cmap='gray')\n",
    "        plt.show()\n",
    "        print ('Height: ', height, ' Width: ', width)\n",
    "    if write_images > 0:\n",
    "        cv2.imwrite('test_images_output/gray.jpg', gray)\n",
    "\n",
    "    # Gaussian filter\n",
    "    if history_info == 1:\n",
    "        blur_img = gray\n",
    "    else:\n",
    "        kSize = 7\n",
    "        blur_img = gaussian_blur(gray, kSize)\n",
    "    if display_images > 0:\n",
    "        plt.imshow(blur_img, cmap='gray')\n",
    "        plt.show()\n",
    "    if write_images > 0:\n",
    "        cv2.imwrite('test_images_output/blurred.jpg', blur_img)\n",
    "\n",
    "    #edge detection\n",
    "    if history_info == 1:\n",
    "        low_threshold = 40\n",
    "        high_threshold = 160\n",
    "        history_info = 0\n",
    "    else:\n",
    "        low_threshold = 80\n",
    "        high_threshold = 240\n",
    "    edge = canny(blur_img, low_threshold, high_threshold)\n",
    "    if display_images > 0:\n",
    "        plt.imshow(edge, cmap='gray')\n",
    "        plt.show()\n",
    "    if write_images > 0:\n",
    "        cv2.imwrite('test_images_output/canny_edge.jpg', edge)\n",
    "\n",
    "    # ROI Selection\n",
    "    a = [width*0.4, height*0.56]\n",
    "    b = [width*0.15, height]\n",
    "    c = [width*0.95, height]\n",
    "    d = [width*0.6, height*0.56]\n",
    "    vertices = np.array([a, b, c, d], dtype=np.int32)\n",
    "    roi_img = region_of_interest(edge, vertices)\n",
    "    if display_images > 0:\n",
    "        print ('Vertices: ', vertices)\n",
    "        plt.imshow(roi_img, cmap='gray')\n",
    "        plt.show()\n",
    "    if write_images > 0:\n",
    "        cv2.imwrite('test_images_output/roi_image.jpg', roi_img)\n",
    "\n",
    "    # Hough lines\n",
    "    rho = 1\n",
    "    theta = np.pi/180.\n",
    "    threshold = 10\n",
    "    min_line_len = 15\n",
    "    max_line_gap = 5\n",
    "    line_img, lines = hough_lines(roi_img, rho, theta, threshold, min_line_len, max_line_gap)\n",
    "    if display_images > 0:\n",
    "        plt.imshow(line_img, cmap='gray')\n",
    "        plt.show()\n",
    "    if write_images > 0:\n",
    "        plt.imsave('test_images_output/hough_lines.jpg', line_img)\n",
    "    \n",
    "    # Identify right and left lane\n",
    "    left_line, right_line = identify_left_right_lanes(lines)\n",
    "\n",
    "    # Obtain new set of x and y coordinates to draw the lines\n",
    "    new_line = []\n",
    "    \n",
    "    # get new left line\n",
    "    new_y1 = int(0.65*height)\n",
    "    new_y2 = height\n",
    "    new_x1, new_x2 = get_xcoordinate(new_y1, new_y2, left_line)\n",
    "    if new_x1 == 0 or new_x2 == 0:\n",
    "        history_info = 1\n",
    "        \n",
    "    if display_images > 0:\n",
    "        print ('new left line: ',[new_x1, new_y1, new_x2, new_y2])\n",
    "        \n",
    "    # append new left line    \n",
    "    if (new_x1 > 0 and new_x2 > 0):\n",
    "        new_line.append([new_x1, new_y1, new_x2, new_y2])\n",
    "        \n",
    "    # get new right line\n",
    "    new_y1 = height\n",
    "    new_y2 = int(0.65*height)\n",
    "    new_x1, new_x2 = get_xcoordinate(new_y1, new_y2, right_line)\n",
    "    \n",
    "    if display_images > 0:\n",
    "        print ('new right line: ',[new_x1, new_y1, new_x2, new_y2])\n",
    "        \n",
    "    # append new right line\n",
    "    if (new_x1 > 0 and new_x2 > 0):\n",
    "        new_line.append([new_x1, new_y1, new_x2, new_y2])\n",
    "    \n",
    "    # draw new lines and get the line image\n",
    "    new_line_np = np.asarray([new_line], dtype=np.int32)\n",
    "    new_line_img = np.zeros((image.shape[0], image.shape[1], 3), dtype=np.uint8)\n",
    "    draw_lines(new_line_img, [new_line], thickness=15)\n",
    "    if display_images > 0:\n",
    "        plt.imshow(new_line_img)\n",
    "        plt.show()\n",
    "    if write_images > 0:\n",
    "        plt.imsave('test_images_output/new_line.jpg', new_line_img)\n",
    "        \n",
    "    # Superimpose the line image onto the original image\n",
    "    out = weighted_img(new_line_img, image)\n",
    "    if display_images > 0:\n",
    "        plt.imshow(out)\n",
    "        plt.show()\n",
    "    if write_images > 0:\n",
    "        plt.imsave('test_images_output/final.jpg', out)\n",
    "    \n",
    "    return out\n",
    "\n",
    "# run the pipeline on test images\n",
    "for i, imgFile in enumerate(filelist):\n",
    "    image = mpimg.imread(imgFile)\n",
    "    # save intermediate stage output for first image and run just the pipeline for next all\n",
    "    if i == 0:\n",
    "        im_out = lane_detection(image, 1, 1)\n",
    "    else:\n",
    "        im_out = lane_detection(image)\n",
    "    # save the output files for all the test images\n",
    "    output_file = os.path.join('test_images_output/', files[i],)\n",
    "    plt.imsave(output_file, im_out)"
   ]
  },
  {
   "cell_type": "markdown",
   "metadata": {},
   "source": [
    "## Test on Videos"
   ]
  },
  {
   "cell_type": "code",
   "execution_count": null,
   "metadata": {},
   "outputs": [],
   "source": [
    "# Import everything needed to edit/save/watch video clips\n",
    "from moviepy.editor import VideoFileClip\n",
    "from IPython.display import HTML"
   ]
  },
  {
   "cell_type": "code",
   "execution_count": null,
   "metadata": {},
   "outputs": [],
   "source": [
    "def process_image(image):\n",
    "    result = lane_detection(image)\n",
    "    return result"
   ]
  },
  {
   "cell_type": "markdown",
   "metadata": {},
   "source": [
    "Let's try the one with the solid white lane on the right first ..."
   ]
  },
  {
   "cell_type": "code",
   "execution_count": null,
   "metadata": {
    "scrolled": false
   },
   "outputs": [],
   "source": [
    "white_output = 'test_videos_output/solidWhiteRight.mp4'\n",
    "## To speed up the testing process you may want to try your pipeline on a shorter subclip of the video\n",
    "## To do so add .subclip(start_second,end_second) to the end of the line below\n",
    "## Where start_second and end_second are integer values representing the start and end of the subclip\n",
    "## You may also uncomment the following line for a subclip of the first 5 seconds\n",
    "##clip1 = VideoFileClip(\"test_videos/solidWhiteRight.mp4\").subclip(0,5)\n",
    "clip1 = VideoFileClip(\"test_videos/solidWhiteRight.mp4\")\n",
    "white_clip = clip1.fl_image(process_image) #NOTE: this function expects color images!!\n",
    "%time white_clip.write_videofile(white_output, audio=False)"
   ]
  },
  {
   "cell_type": "markdown",
   "metadata": {},
   "source": [
    "Play the video inline, or if you prefer find the video in your filesystem (should be in the same directory) and play it in your video player of choice."
   ]
  },
  {
   "cell_type": "code",
   "execution_count": null,
   "metadata": {},
   "outputs": [],
   "source": [
    "HTML(\"\"\"\n",
    "<video width=\"960\" height=\"540\" controls>\n",
    "  <source src=\"{0}\">\n",
    "</video>\n",
    "\"\"\".format(white_output))"
   ]
  },
  {
   "cell_type": "markdown",
   "metadata": {},
   "source": [
    "Now for the one with the solid yellow lane on the left. This one's more tricky!"
   ]
  },
  {
   "cell_type": "code",
   "execution_count": null,
   "metadata": {
    "scrolled": false
   },
   "outputs": [],
   "source": [
    "yellow_output = 'test_videos_output/solidYellowLeft.mp4'\n",
    "## To speed up the testing process you may want to try your pipeline on a shorter subclip of the video\n",
    "## To do so add .subclip(start_second,end_second) to the end of the line below\n",
    "## Where start_second and end_second are integer values representing the start and end of the subclip\n",
    "## You may also uncomment the following line for a subclip of the first 5 seconds\n",
    "##clip2 = VideoFileClip('test_videos/solidYellowLeft.mp4').subclip(0,5)\n",
    "clip2 = VideoFileClip('test_videos/solidYellowLeft.mp4')\n",
    "yellow_clip = clip2.fl_image(process_image)\n",
    "%time yellow_clip.write_videofile(yellow_output, audio=False)"
   ]
  },
  {
   "cell_type": "code",
   "execution_count": null,
   "metadata": {},
   "outputs": [],
   "source": [
    "HTML(\"\"\"\n",
    "<video width=\"960\" height=\"540\" controls>\n",
    "  <source src=\"{0}\">\n",
    "</video>\n",
    "\"\"\".format(yellow_output))"
   ]
  },
  {
   "cell_type": "markdown",
   "metadata": {
    "collapsed": true
   },
   "source": [
    "## Optional Challenge\n",
    "\n",
    "Try your lane finding pipeline on the video below.  Does it still work?  Can you figure out a way to make it more robust?  If you're up for the challenge, modify your pipeline so it works with this video and submit it along with the rest of your project!"
   ]
  },
  {
   "cell_type": "code",
   "execution_count": null,
   "metadata": {},
   "outputs": [],
   "source": [
    "challenge_output = 'test_videos_output/challenge.mp4'\n",
    "## To speed up the testing process you may want to try your pipeline on a shorter subclip of the video\n",
    "## To do so add .subclip(start_second,end_second) to the end of the line below\n",
    "## Where start_second and end_second are integer values representing the start and end of the subclip\n",
    "## You may also uncomment the following line for a subclip of the first 5 seconds\n",
    "##clip3 = VideoFileClip('test_videos/challenge.mp4').subclip(0,5)\n",
    "clip3 = VideoFileClip('test_videos/challenge.mp4')\n",
    "challenge_clip = clip3.fl_image(process_image)\n",
    "%time challenge_clip.write_videofile(challenge_output, audio=False)"
   ]
  },
  {
   "cell_type": "code",
   "execution_count": null,
   "metadata": {},
   "outputs": [],
   "source": [
    "HTML(\"\"\"\n",
    "<video width=\"960\" height=\"540\" controls>\n",
    "  <source src=\"{0}\">\n",
    "</video>\n",
    "\"\"\".format(challenge_output))"
   ]
  },
  {
   "cell_type": "code",
   "execution_count": null,
   "metadata": {},
   "outputs": [],
   "source": []
  }
 ],
 "metadata": {
  "anaconda-cloud": {},
  "kernelspec": {
   "display_name": "Python 3",
   "language": "python",
   "name": "python3"
  },
  "language_info": {
   "codemirror_mode": {
    "name": "ipython",
    "version": 3
   },
   "file_extension": ".py",
   "mimetype": "text/x-python",
   "name": "python",
   "nbconvert_exporter": "python",
   "pygments_lexer": "ipython3",
   "version": "3.5.2"
  },
  "widgets": {
   "state": {},
   "version": "1.1.2"
  }
 },
 "nbformat": 4,
 "nbformat_minor": 1
}
